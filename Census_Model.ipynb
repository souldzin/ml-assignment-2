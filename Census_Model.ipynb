{
 "cells": [
  {
   "cell_type": "code",
   "execution_count": null,
   "metadata": {
    "collapsed": true
   },
   "outputs": [],
   "source": [
    "import pandas as pd\n",
    "import numpy as np\n",
    "from sklearn.model_selection import train_test_split\n",
    "from sklearn import preprocessing\n",
    "from sklearn.preprocessing import StandardScaler\n",
    "from sklearn import svm\n",
    "from sklearn.neural_network import MLPClassifier"
   ]
  },
  {
   "cell_type": "code",
   "execution_count": null,
   "metadata": {
    "collapsed": true
   },
   "outputs": [],
   "source": [
    "# This is where we'll put constants\n",
    "TRAIN_DATA_PATH     = \"./data/adultTrain.data\"\n",
    "DATA_HEADERS        = [\n",
    "    \"age\", \"workclass\", \"fnlwgt\", \"education\", \"education-num\", \"marital-status\", \n",
    "    \"occupation\", \"relationship\", \"race\", \"sec\", \"capital-gain\", \"capital-loss\", \n",
    "    \"hours-per-week\", \"native-country\", \"y\"\n",
    "]\n",
    "CLEAN_EDUCATION_MAP = {\n",
    "    \"HS-grad\":      \"High-school\",\n",
    "    \"Some-college\": \"Higher-education\",\n",
    "    \"Bachelors\":    \"Undergraduate\",\n",
    "    \"Masters\":      \"Graduate\",\n",
    "    \"Assoc-voc\":    \"Higher-education\",\n",
    "    \"11th\":         \"Grade-school\",\n",
    "    \"Assoc-acdm\":   \"Higher-education\",\n",
    "    \"10th\":         \"Grade-school\",\n",
    "    \"7th-8th\":      \"Grade-school\",\n",
    "    \"Prof-school\":  \"Higher-education\",\n",
    "    \"9th\":          \"Grade-school\",              \n",
    "    \"12th\":         \"Grade-school\",\n",
    "    \"Doctorate\":    \"Graduate\",\n",
    "    \"5th-6th\":      \"Grade-school\",\n",
    "    \"1st-4th\":      \"Grade-school\",\n",
    "    \"Preschool\":    \"Grade-school\"\n",
    "}\n",
    "CLEAN_WORKCLASS_MAP = {\n",
    "    \"Private\":          \"Private\",\n",
    "    \"Self-emp-not-inc\": \"Self-employed\",\n",
    "    \"Self-emp-inc\":     \"Self-employed\",\n",
    "    \"Local-gov\":        \"Government\",\n",
    "    \"State-gov\":        \"Government\",\n",
    "    \"Federal-gov\":      \"Government\",\n",
    "    \"Without-pay\":      \"Without-pay\"\n",
    "}"
   ]
  },
  {
   "cell_type": "code",
   "execution_count": null,
   "metadata": {
    "collapsed": true
   },
   "outputs": [],
   "source": [
    "def read_data(path):\n",
    "    dataset = pd.read_csv(path)\n",
    "    dataset.columns = DATA_HEADERS\n",
    "    return dataset"
   ]
  },
  {
   "cell_type": "code",
   "execution_count": null,
   "metadata": {
    "collapsed": true
   },
   "outputs": [],
   "source": [
    "def clean_marital_status(value):\n",
    "    lowerValue = value.lower()\n",
    "    \n",
    "    if lowerValue == \"never-married\":\n",
    "        return \"Never-married\"\n",
    "    elif \"married\" in lowerValue:\n",
    "        return \"Married\"\n",
    "    else:\n",
    "        return \"Previously-married\"\n",
    "    \n",
    "def clean_native_country(value):\n",
    "    lowerValue = value.lower()\n",
    "    \n",
    "    if lowerValue == \"united-states\":\n",
    "        return \"United-States\"\n",
    "    else:\n",
    "        return \"Other\"\n",
    "\n",
    "def clean_data(data):\n",
    "    # Strip whitespaces from all string values\n",
    "    # and replace \"?\" with None,\n",
    "    # and drop all na rows\n",
    "    data = data.apply(lambda x: x.str.strip() if x.dtype == \"object\" else x) \\\n",
    "               .replace(['?'], [None]) \\\n",
    "               .dropna()\n",
    "    # Clean 'marital-status'\n",
    "    data['marital-status'] = data['marital-status'].map(clean_marital_status)\n",
    "    # Clean 'native-country'\n",
    "    data = data[data['native-country'] != \"?\"]\n",
    "    data['native-country'] = data['native-country'].map(clean_native_country)\n",
    "    # Clean 'education'\n",
    "    data['education'] = data['education'].map(CLEAN_EDUCATION_MAP)\n",
    "    # Clean 'workclass'\n",
    "    data['workclass'] = data['workclass'].map(CLEAN_WORKCLASS_MAP)\n",
    "    # Drop unecessary columns\n",
    "    # - education-num - this looks like an identifier for the original education value (not needed!)\n",
    "    data.drop(['fnlwgt', 'capital-gain', 'capital-loss', 'education-num'], axis=1, inplace=True)\n",
    "    return data"
   ]
  },
  {
   "cell_type": "code",
   "execution_count": null,
   "metadata": {
    "collapsed": true
   },
   "outputs": [],
   "source": [
    "def train_model (model, train_X, train_y):\n",
    "    model.fit (train_X, train_y)    \n",
    "    return model\n",
    "    \n",
    "def test_model (model, test_X, test_y):\n",
    "    predicted= model.predict(test_X)\n",
    "    cnf_matrix = confusion_matrix(test_y, predicted)\n",
    "    print(cnf_matrix)\n",
    "    score = model.score(test_X, test_y)\n",
    "    print(score)"
   ]
  },
  {
   "cell_type": "code",
   "execution_count": null,
   "metadata": {},
   "outputs": [],
   "source": [
    "dataset = read_data(TRAIN_DATA_PATH)\n",
    "dataset = clean_data(dataset)\n",
    "dataset.head()"
   ]
  },
  {
   "cell_type": "code",
   "execution_count": null,
   "metadata": {},
   "outputs": [],
   "source": [
    "dataset['relationship'].value_counts()"
   ]
  },
  {
   "cell_type": "code",
   "execution_count": null,
   "metadata": {
    "collapsed": true
   },
   "outputs": [],
   "source": [
    "dataset2 = pd.get_dummies(dataset, columns =['workclass', 'education', 'marital-status', 'occupation', 'relationship', \n",
    "                                             'race', 'sec','native-country'])"
   ]
  },
  {
   "cell_type": "code",
   "execution_count": null,
   "metadata": {},
   "outputs": [],
   "source": [
    "dataset2.columns"
   ]
  },
  {
   "cell_type": "code",
   "execution_count": null,
   "metadata": {
    "collapsed": true
   },
   "outputs": [],
   "source": [
    "X = dataset2.loc[:, dataset2.columns != \"y\"]\n",
    "y = dataset2.loc[:, \"y\"]\n",
    "X_train, X_test, y_train, y_test = train_test_split(X, y, test_size = .25, random_state=0)"
   ]
  },
  {
   "cell_type": "code",
   "execution_count": null,
   "metadata": {},
   "outputs": [],
   "source": [
    "X_train.shape"
   ]
  },
  {
   "cell_type": "code",
   "execution_count": null,
   "metadata": {},
   "outputs": [],
   "source": [
    "y_train.shape"
   ]
  },
  {
   "cell_type": "code",
   "execution_count": null,
   "metadata": {},
   "outputs": [],
   "source": [
    "# SVM Model\n",
    "model = train_model(svm.SVC(kernel='linear'), X_train, y_train)\n",
    "test_model(model, X_test, y_test)"
   ]
  },
  {
   "cell_type": "code",
   "execution_count": null,
   "metadata": {
    "collapsed": true
   },
   "outputs": [],
   "source": [
    "# NN \n",
    "mlp = MLPClassifier(hidden_layer_sizes=(23,23,23))"
   ]
  },
  {
   "cell_type": "code",
   "execution_count": null,
   "metadata": {
    "collapsed": true
   },
   "outputs": [],
   "source": [
    "mlp.fit(X_train,y_train)"
   ]
  },
  {
   "cell_type": "code",
   "execution_count": null,
   "metadata": {
    "collapsed": true
   },
   "outputs": [],
   "source": [
    "predictions = mlp.predict(X_test)"
   ]
  },
  {
   "cell_type": "code",
   "execution_count": null,
   "metadata": {
    "collapsed": true
   },
   "outputs": [],
   "source": [
    "print(confusion_matrix(y_test,predictions))\n",
    "mlp.score(X_test,y_test)"
   ]
  },
  {
   "cell_type": "code",
   "execution_count": null,
   "metadata": {
    "collapsed": true
   },
   "outputs": [],
   "source": [
    "#Using KNN"
   ]
  },
  {
   "cell_type": "code",
   "execution_count": null,
   "metadata": {
    "collapsed": true
   },
   "outputs": [],
   "source": [
    "from sklearn.neighbors import KNeighborsClassifier\n",
    "KNN = KNeighborsClassifier(n_neighbors=5)"
   ]
  },
  {
   "cell_type": "code",
   "execution_count": null,
   "metadata": {
    "collapsed": true
   },
   "outputs": [],
   "source": [
    "KNN.fit(X_train,y_train)"
   ]
  },
  {
   "cell_type": "code",
   "execution_count": null,
   "metadata": {
    "collapsed": true
   },
   "outputs": [],
   "source": [
    "predictions = KNN.predict(X_test)"
   ]
  },
  {
   "cell_type": "code",
   "execution_count": null,
   "metadata": {
    "collapsed": true
   },
   "outputs": [],
   "source": [
    "from sklearn.metrics import classification_report,confusion_matrix\n",
    "print(confusion_matrix(y_test,predictions))\n",
    "KNN.score(X_test,y_test)"
   ]
  },
  {
   "cell_type": "code",
   "execution_count": null,
   "metadata": {
    "collapsed": true
   },
   "outputs": [],
   "source": [
    "# Using SVM"
   ]
  },
  {
   "cell_type": "code",
   "execution_count": null,
   "metadata": {
    "collapsed": true
   },
   "outputs": [],
   "source": [
    "from sklearn import svm\n",
    "\n",
    "svc_linear = svm.SVC(kernel='linear', C=10)\n",
    "svc_linear.fit(X_train, y_train)"
   ]
  },
  {
   "cell_type": "code",
   "execution_count": null,
   "metadata": {
    "collapsed": true
   },
   "outputs": [],
   "source": [
    "predicted= svc_linear.predict(X_test)\n",
    "cnf_matrix = confusion_matrix(y_test, predicted)\n",
    "print(cnf_matrix)\n",
    "svc_linear.score(X_test,y_test)"
   ]
  }
 ],
 "metadata": {
  "kernelspec": {
   "display_name": "Python 3",
   "language": "python",
   "name": "python3"
  },
  "language_info": {
   "codemirror_mode": {
    "name": "ipython",
    "version": 3
   },
   "file_extension": ".py",
   "mimetype": "text/x-python",
   "name": "python",
   "nbconvert_exporter": "python",
   "pygments_lexer": "ipython3",
   "version": "3.6.3"
  }
 },
 "nbformat": 4,
 "nbformat_minor": 2
}
