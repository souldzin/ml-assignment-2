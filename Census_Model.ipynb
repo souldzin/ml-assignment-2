{
 "cells": [
  {
   "cell_type": "code",
   "execution_count": 1,
   "metadata": {
    "collapsed": true
   },
   "outputs": [],
   "source": [
    "import pandas as pd\n",
    "import numpy as np\n",
    "import textwrap\n",
    "from sklearn.model_selection import train_test_split\n",
    "from sklearn import preprocessing\n",
    "from sklearn.svm import SVC\n",
    "from sklearn.neural_network import MLPClassifier\n",
    "from sklearn.neighbors import KNeighborsClassifier\n",
    "from sklearn.metrics import confusion_matrix, accuracy_score\n",
    "from sklearn.model_selection import KFold\n",
    "from sklearn.base import clone"
   ]
  },
  {
   "cell_type": "code",
   "execution_count": 2,
   "metadata": {
    "collapsed": true
   },
   "outputs": [],
   "source": [
    "# This is where we'll put constants\n",
    "TRAIN_DATA_PATH     = \"./data/adultTrain.data\"\n",
    "DATA_HEADERS        = [\n",
    "    \"age\", \"workclass\", \"fnlwgt\", \"education\", \"education-num\", \"marital-status\", \n",
    "    \"occupation\", \"relationship\", \"race\", \"sec\", \"capital-gain\", \"capital-loss\", \n",
    "    \"hours-per-week\", \"native-country\", \"y\"\n",
    "]\n",
    "CLEAN_EDUCATION_MAP = {\n",
    "    \"HS-grad\":      \"High-school\",\n",
    "    \"Some-college\": \"Higher-education\",\n",
    "    \"Bachelors\":    \"Undergraduate\",\n",
    "    \"Masters\":      \"Graduate\",\n",
    "    \"Assoc-voc\":    \"Higher-education\",\n",
    "    \"11th\":         \"Grade-school\",\n",
    "    \"Assoc-acdm\":   \"Higher-education\",\n",
    "    \"10th\":         \"Grade-school\",\n",
    "    \"7th-8th\":      \"Grade-school\",\n",
    "    \"Prof-school\":  \"Higher-education\",\n",
    "    \"9th\":          \"Grade-school\",              \n",
    "    \"12th\":         \"Grade-school\",\n",
    "    \"Doctorate\":    \"Graduate\",\n",
    "    \"5th-6th\":      \"Grade-school\",\n",
    "    \"1st-4th\":      \"Grade-school\",\n",
    "    \"Preschool\":    \"Grade-school\"\n",
    "}\n",
    "CLEAN_WORKCLASS_MAP = {\n",
    "    \"Private\":          \"Private\",\n",
    "    \"Self-emp-not-inc\": \"Self-employed\",\n",
    "    \"Self-emp-inc\":     \"Self-employed\",\n",
    "    \"Local-gov\":        \"Government\",\n",
    "    \"State-gov\":        \"Government\",\n",
    "    \"Federal-gov\":      \"Government\",\n",
    "    \"Without-pay\":      \"Without-pay\"\n",
    "}"
   ]
  },
  {
   "cell_type": "code",
   "execution_count": 3,
   "metadata": {
    "collapsed": true
   },
   "outputs": [],
   "source": [
    "def clean_marital_status(value):\n",
    "    lowerValue = value.lower()\n",
    "    \n",
    "    if lowerValue == \"never-married\":\n",
    "        return \"Never-married\"\n",
    "    elif \"married\" in lowerValue:\n",
    "        return \"Married\"\n",
    "    else:\n",
    "        return \"Previously-married\"\n",
    "    \n",
    "def clean_native_country(value):\n",
    "    lowerValue = value.lower()\n",
    "    \n",
    "    if lowerValue == \"united-states\":\n",
    "        return \"United-States\"\n",
    "    else:\n",
    "        return \"Other\"\n",
    "\n",
    "def clean_data(data):\n",
    "    # Strip whitespaces from all string values\n",
    "    # and replace \"?\" with None,\n",
    "    # and drop all na rows\n",
    "    data = data.apply(lambda x: x.str.strip() if x.dtype == \"object\" else x) \\\n",
    "               .replace(['?'], [None]) \\\n",
    "               .dropna()\n",
    "    # Clean 'marital-status'\n",
    "    data['marital-status'] = data['marital-status'].map(clean_marital_status)\n",
    "    # Clean 'native-country'\n",
    "    data = data[data['native-country'] != \"?\"]\n",
    "    data['native-country'] = data['native-country'].map(clean_native_country)\n",
    "    # Clean 'education'\n",
    "    data['education'] = data['education'].map(CLEAN_EDUCATION_MAP)\n",
    "    # Clean 'workclass'\n",
    "    data['workclass'] = data['workclass'].map(CLEAN_WORKCLASS_MAP)\n",
    "    # Drop unecessary columns\n",
    "    # - education-num - this looks like an identifier for the original education value (not needed!)\n",
    "    data.drop(['fnlwgt', 'capital-gain', 'capital-loss', 'education-num'], axis=1, inplace=True)\n",
    "    return data\n",
    "\n",
    "def read_data(path):\n",
    "    dataset = pd.read_csv(path)\n",
    "    dataset.columns = DATA_HEADERS\n",
    "    return clean_data(dataset)"
   ]
  },
  {
   "cell_type": "code",
   "execution_count": 4,
   "metadata": {
    "collapsed": true
   },
   "outputs": [],
   "source": [
    "def test_model_kfold(model, X, y):\n",
    "    \"\"\"Run a kfold test on the given model. It works off of a clone of the given model.\"\"\"\n",
    "    num_folds = 5\n",
    "    kf = KFold(n_splits=num_folds, random_state=None, shuffle=True)\n",
    "    avg_score = 0\n",
    "    avg_cnf_matrix = None\n",
    "    \n",
    "    # For each fold...\n",
    "    # 1) clone the model to get a fresh copy\n",
    "    # 2) train and test the model on the split\n",
    "    # 3) aggregate the test results\n",
    "    for train_index, test_index in kf.split(X):       \n",
    "        train_X, test_X = X.iloc[train_index], X.iloc[test_index]\n",
    "        train_y, test_y = y.iloc[train_index], y.iloc[test_index]\n",
    "        \n",
    "        model = clone(model)\n",
    "        model.fit(train_X, train_y)\n",
    "        score, cnf_matrix = test_model(model, test_X, test_y)\n",
    "        \n",
    "        avg_score += score\n",
    "        avg_cnf_matrix = avg_cnf_matrix + np.matrix(cnf_matrix) if avg_cnf_matrix is not None else np.matrix(cnf_matrix)\n",
    "        \n",
    "    avg_score = avg_score / num_folds\n",
    "    avg_cnf_matrix = avg_cnf_matrix / num_folds\n",
    "    \n",
    "    return (avg_score, avg_cnf_matrix)\n",
    "\n",
    "def test_model_split(model, train_split_xy):\n",
    "    \"\"\"Run a test on the given split. It works off of a clone of the given model.\"\"\"\n",
    "    train_X, test_X, train_y, test_y = train_split_xy\n",
    "    model = clone(model)\n",
    "    model.fit(train_X, train_y)\n",
    "    return test_model(model, test_X, test_y)\n",
    "    \n",
    "def test_model (model, test_X, test_y):\n",
    "    \"\"\"Get performance metrics based on the model's prediction results.\"\"\"\n",
    "    predicted = model.predict(test_X)\n",
    "    cnf_matrix = confusion_matrix(test_y, predicted)\n",
    "    score = accuracy_score(test_y, predicted)\n",
    "    return (score, cnf_matrix)\n",
    "\n",
    "def print_test_results (results):\n",
    "    score, cnf_matrix = results\n",
    "    print(\"Accuracy Score:\")\n",
    "    print(textwrap.indent(str(score), \" \" * 4))\n",
    "    print(\"\")\n",
    "    print(\"Confusion Matrix:\")\n",
    "    print(textwrap.indent(str(cnf_matrix), \" \" * 4))"
   ]
  },
  {
   "cell_type": "code",
   "execution_count": 5,
   "metadata": {},
   "outputs": [],
   "source": [
    "dataset = read_data(TRAIN_DATA_PATH)"
   ]
  },
  {
   "cell_type": "code",
   "execution_count": 6,
   "metadata": {
    "collapsed": true
   },
   "outputs": [],
   "source": [
    "dataset2 = pd.get_dummies(dataset, columns =['workclass', 'education', 'marital-status', 'occupation', 'relationship', \n",
    "                                             'race', 'sec','native-country'])"
   ]
  },
  {
   "cell_type": "code",
   "execution_count": 7,
   "metadata": {
    "collapsed": true
   },
   "outputs": [],
   "source": [
    "X = dataset2.loc[:, dataset2.columns != \"y\"]\n",
    "y = dataset2.loc[:, \"y\"]"
   ]
  },
  {
   "cell_type": "code",
   "execution_count": 8,
   "metadata": {
    "collapsed": true
   },
   "outputs": [],
   "source": [
    "xy_split = train_test_split(X, y, test_size=0.25)"
   ]
  },
  {
   "cell_type": "code",
   "execution_count": 10,
   "metadata": {},
   "outputs": [
    {
     "name": "stdout",
     "output_type": "stream",
     "text": [
      "Accuracy Score:\n",
      "    0.831719931044\n",
      "\n",
      "Confusion Matrix:\n",
      "    [[5111  526]\n",
      "     [ 743 1161]]\n"
     ]
    }
   ],
   "source": [
    "# Neural Network\n",
    "# - we played around with different hidden_layer_sizes, but the default (100,) seemed to be best\n",
    "nn_model = MLPClassifier(hidden_layer_sizes=(100,), activation='relu', solver='adam')\n",
    "test_results = test_model_split(nn_model, xy_split)\n",
    "print_test_results(test_results)"
   ]
  },
  {
   "cell_type": "code",
   "execution_count": 11,
   "metadata": {},
   "outputs": [
    {
     "name": "stdout",
     "output_type": "stream",
     "text": [
      "Accuracy Score:\n",
      "    0.824956902268\n",
      "\n",
      "Confusion Matrix:\n",
      "    [[5167  470]\n",
      "     [ 850 1054]]\n"
     ]
    }
   ],
   "source": [
    "# SVM\n",
    "# - for any kernel other than 'rbf', this took a REALLY long time to finish\n",
    "svm_model = SVC(C=1.0, kernel='rbf')\n",
    "test_results = test_model_split(svm_model, xy_split)\n",
    "print_test_results(test_results)"
   ]
  },
  {
   "cell_type": "code",
   "execution_count": 12,
   "metadata": {},
   "outputs": [
    {
     "name": "stdout",
     "output_type": "stream",
     "text": [
      "Accuracy Score:\n",
      "    0.80718737568\n",
      "\n",
      "Confusion Matrix:\n",
      "    [[5155  482]\n",
      "     [ 972  932]]\n"
     ]
    }
   ],
   "source": [
    "# KNN\n",
    "# - increasing the number of neighbors seemed to help with the overall score\n",
    "knn_model = KNeighborsClassifier(n_neighbors=10)\n",
    "test_results = test_model_split(knn_model, xy_split)\n",
    "print_test_results(test_results)"
   ]
  },
  {
   "cell_type": "code",
   "execution_count": null,
   "metadata": {
    "collapsed": true
   },
   "outputs": [],
   "source": []
  }
 ],
 "metadata": {
  "kernelspec": {
   "display_name": "Python 3",
   "language": "python",
   "name": "python3"
  },
  "language_info": {
   "codemirror_mode": {
    "name": "ipython",
    "version": 3
   },
   "file_extension": ".py",
   "mimetype": "text/x-python",
   "name": "python",
   "nbconvert_exporter": "python",
   "pygments_lexer": "ipython3",
   "version": "3.6.3"
  }
 },
 "nbformat": 4,
 "nbformat_minor": 2
}
