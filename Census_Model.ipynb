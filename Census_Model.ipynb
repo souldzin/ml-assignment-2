{
 "cells": [
  {
   "cell_type": "code",
   "execution_count": 1,
   "metadata": {
    "collapsed": true
   },
   "outputs": [],
   "source": [
    "import pandas as pd\n",
    "import numpy as np\n",
    "from sklearn.model_selection import train_test_split\n",
    "from sklearn import preprocessing\n",
    "from sklearn.preprocessing import StandardScaler\n",
    "from sklearn import svm\n",
    "from sklearn.neural_network import MLPClassifier"
   ]
  },
  {
   "cell_type": "code",
   "execution_count": 2,
   "metadata": {
    "collapsed": true
   },
   "outputs": [],
   "source": [
    "# This is where we'll put constants\n",
    "TRAIN_DATA_PATH     = \"./data/adultTrain.data\"\n",
    "DATA_HEADERS        = [\n",
    "    \"age\", \"workclass\", \"fnlwgt\", \"education\", \"education-num\", \"marital-status\", \n",
    "    \"occupation\", \"relationship\", \"race\", \"sec\", \"capital-gain\", \"capital-loss\", \n",
    "    \"hours-per-week\", \"native-country\", \"y\"\n",
    "]\n",
    "CLEAN_EDUCATION_MAP = {\n",
    "    \"HS-grad\":      \"High-school\",\n",
    "    \"Some-college\": \"Higher-education\",\n",
    "    \"Bachelors\":    \"Undergraduate\",\n",
    "    \"Masters\":      \"Graduate\",\n",
    "    \"Assoc-voc\":    \"Higher-education\",\n",
    "    \"11th\":         \"Grade-school\",\n",
    "    \"Assoc-acdm\":   \"Higher-education\",\n",
    "    \"10th\":         \"Grade-school\",\n",
    "    \"7th-8th\":      \"Grade-school\",\n",
    "    \"Prof-school\":  \"Higher-education\",\n",
    "    \"9th\":          \"Grade-school\",              \n",
    "    \"12th\":         \"Grade-school\",\n",
    "    \"Doctorate\":    \"Graduate\",\n",
    "    \"5th-6th\":      \"Grade-school\",\n",
    "    \"1st-4th\":      \"Grade-school\",\n",
    "    \"Preschool\":    \"Grade-school\"\n",
    "}\n",
    "CLEAN_WORKCLASS_MAP = {\n",
    "    \"Private\":          \"Private\",\n",
    "    \"Self-emp-not-inc\": \"Self-employed\",\n",
    "    \"Self-emp-inc\":     \"Self-employed\",\n",
    "    \"Local-gov\":        \"Government\",\n",
    "    \"State-gov\":        \"Government\",\n",
    "    \"Federal-gov\":      \"Government\",\n",
    "    \"Without-pay\":      \"Without-pay\"\n",
    "}"
   ]
  },
  {
   "cell_type": "code",
   "execution_count": 3,
   "metadata": {
    "collapsed": true
   },
   "outputs": [],
   "source": [
    "def read_data(path):\n",
    "    dataset = pd.read_csv(path)\n",
    "    dataset.columns = DATA_HEADERS\n",
    "    return dataset"
   ]
  },
  {
   "cell_type": "code",
   "execution_count": 4,
   "metadata": {
    "collapsed": true
   },
   "outputs": [],
   "source": [
    "def clean_marital_status(value):\n",
    "    lowerValue = value.lower()\n",
    "    \n",
    "    if lowerValue == \"never-married\":\n",
    "        return \"Never-married\"\n",
    "    elif \"married\" in lowerValue:\n",
    "        return \"Married\"\n",
    "    else:\n",
    "        return \"Previously-married\"\n",
    "    \n",
    "def clean_native_country(value):\n",
    "    lowerValue = value.lower()\n",
    "    \n",
    "    if lowerValue == \"united-states\":\n",
    "        return \"United-States\"\n",
    "    else:\n",
    "        return \"Other\"\n",
    "\n",
    "def clean_data(data):\n",
    "    # Strip whitespaces from all string values\n",
    "    # and replace \"?\" with None,\n",
    "    # and drop all na rows\n",
    "    data = data.apply(lambda x: x.str.strip() if x.dtype == \"object\" else x) \\\n",
    "               .replace(['?'], [None]) \\\n",
    "               .dropna()\n",
    "    # Clean 'marital-status'\n",
    "    data['marital-status'] = data['marital-status'].map(clean_marital_status)\n",
    "    # Clean 'native-country'\n",
    "    data = data[data['native-country'] != \"?\"]\n",
    "    data['native-country'] = data['native-country'].map(clean_native_country)\n",
    "    # Clean 'education'\n",
    "    data['education'] = data['education'].map(CLEAN_EDUCATION_MAP)\n",
    "    # Clean 'workclass'\n",
    "    data['workclass'] = data['workclass'].map(CLEAN_WORKCLASS_MAP)\n",
    "    # Drop unecessary columns\n",
    "    # - education-num - this looks like an identifier for the original education value (not needed!)\n",
    "    data.drop(['fnlwgt', 'capital-gain', 'capital-loss', 'education-num'], axis=1, inplace=True)\n",
    "    return data"
   ]
  },
  {
   "cell_type": "code",
   "execution_count": null,
   "metadata": {
    "collapsed": true
   },
   "outputs": [],
   "source": [
    "def train_model (model, train_X, train_y):\n",
    "    model.fit (train_X, train_y)    \n",
    "    return model\n",
    "    \n",
    "def test_model (model, test_X, test_y):\n",
    "    predicted= model.predict(test_X)\n",
    "    cnf_matrix = confusion_matrix(test_y, predicted)\n",
    "    print(cnf_matrix)\n",
    "    score = model.score(test_X, test_y)\n",
    "    print(score)"
   ]
  },
  {
   "cell_type": "code",
   "execution_count": 5,
   "metadata": {},
   "outputs": [
    {
     "data": {
      "text/html": [
       "<div>\n",
       "<style>\n",
       "    .dataframe thead tr:only-child th {\n",
       "        text-align: right;\n",
       "    }\n",
       "\n",
       "    .dataframe thead th {\n",
       "        text-align: left;\n",
       "    }\n",
       "\n",
       "    .dataframe tbody tr th {\n",
       "        vertical-align: top;\n",
       "    }\n",
       "</style>\n",
       "<table border=\"1\" class=\"dataframe\">\n",
       "  <thead>\n",
       "    <tr style=\"text-align: right;\">\n",
       "      <th></th>\n",
       "      <th>age</th>\n",
       "      <th>workclass</th>\n",
       "      <th>education</th>\n",
       "      <th>marital-status</th>\n",
       "      <th>occupation</th>\n",
       "      <th>relationship</th>\n",
       "      <th>race</th>\n",
       "      <th>sec</th>\n",
       "      <th>hours-per-week</th>\n",
       "      <th>native-country</th>\n",
       "      <th>y</th>\n",
       "    </tr>\n",
       "  </thead>\n",
       "  <tbody>\n",
       "    <tr>\n",
       "      <th>0</th>\n",
       "      <td>50</td>\n",
       "      <td>Self-employed</td>\n",
       "      <td>Undergraduate</td>\n",
       "      <td>Married</td>\n",
       "      <td>Exec-managerial</td>\n",
       "      <td>Husband</td>\n",
       "      <td>White</td>\n",
       "      <td>Male</td>\n",
       "      <td>13</td>\n",
       "      <td>United-States</td>\n",
       "      <td>&lt;=50K</td>\n",
       "    </tr>\n",
       "    <tr>\n",
       "      <th>1</th>\n",
       "      <td>38</td>\n",
       "      <td>Private</td>\n",
       "      <td>High-school</td>\n",
       "      <td>Previously-married</td>\n",
       "      <td>Handlers-cleaners</td>\n",
       "      <td>Not-in-family</td>\n",
       "      <td>White</td>\n",
       "      <td>Male</td>\n",
       "      <td>40</td>\n",
       "      <td>United-States</td>\n",
       "      <td>&lt;=50K</td>\n",
       "    </tr>\n",
       "    <tr>\n",
       "      <th>2</th>\n",
       "      <td>53</td>\n",
       "      <td>Private</td>\n",
       "      <td>Grade-school</td>\n",
       "      <td>Married</td>\n",
       "      <td>Handlers-cleaners</td>\n",
       "      <td>Husband</td>\n",
       "      <td>Black</td>\n",
       "      <td>Male</td>\n",
       "      <td>40</td>\n",
       "      <td>United-States</td>\n",
       "      <td>&lt;=50K</td>\n",
       "    </tr>\n",
       "    <tr>\n",
       "      <th>3</th>\n",
       "      <td>28</td>\n",
       "      <td>Private</td>\n",
       "      <td>Undergraduate</td>\n",
       "      <td>Married</td>\n",
       "      <td>Prof-specialty</td>\n",
       "      <td>Wife</td>\n",
       "      <td>Black</td>\n",
       "      <td>Female</td>\n",
       "      <td>40</td>\n",
       "      <td>Other</td>\n",
       "      <td>&lt;=50K</td>\n",
       "    </tr>\n",
       "    <tr>\n",
       "      <th>4</th>\n",
       "      <td>37</td>\n",
       "      <td>Private</td>\n",
       "      <td>Graduate</td>\n",
       "      <td>Married</td>\n",
       "      <td>Exec-managerial</td>\n",
       "      <td>Wife</td>\n",
       "      <td>White</td>\n",
       "      <td>Female</td>\n",
       "      <td>40</td>\n",
       "      <td>United-States</td>\n",
       "      <td>&lt;=50K</td>\n",
       "    </tr>\n",
       "  </tbody>\n",
       "</table>\n",
       "</div>"
      ],
      "text/plain": [
       "   age      workclass      education      marital-status         occupation  \\\n",
       "0   50  Self-employed  Undergraduate             Married    Exec-managerial   \n",
       "1   38        Private    High-school  Previously-married  Handlers-cleaners   \n",
       "2   53        Private   Grade-school             Married  Handlers-cleaners   \n",
       "3   28        Private  Undergraduate             Married     Prof-specialty   \n",
       "4   37        Private       Graduate             Married    Exec-managerial   \n",
       "\n",
       "    relationship   race     sec  hours-per-week native-country      y  \n",
       "0        Husband  White    Male              13  United-States  <=50K  \n",
       "1  Not-in-family  White    Male              40  United-States  <=50K  \n",
       "2        Husband  Black    Male              40  United-States  <=50K  \n",
       "3           Wife  Black  Female              40          Other  <=50K  \n",
       "4           Wife  White  Female              40  United-States  <=50K  "
      ]
     },
     "execution_count": 5,
     "metadata": {},
     "output_type": "execute_result"
    }
   ],
   "source": [
    "dataset = read_data(TRAIN_DATA_PATH)\n",
    "dataset = clean_data(dataset)\n",
    "dataset.head()"
   ]
  },
  {
   "cell_type": "code",
   "execution_count": 6,
   "metadata": {},
   "outputs": [
    {
     "data": {
      "text/plain": [
       "Husband           12463\n",
       "Not-in-family      7725\n",
       "Own-child          4466\n",
       "Unmarried          3212\n",
       "Wife               1406\n",
       "Other-relative      889\n",
       "Name: relationship, dtype: int64"
      ]
     },
     "execution_count": 6,
     "metadata": {},
     "output_type": "execute_result"
    }
   ],
   "source": [
    "dataset['relationship'].value_counts()"
   ]
  },
  {
   "cell_type": "code",
   "execution_count": 7,
   "metadata": {
    "collapsed": true
   },
   "outputs": [],
   "source": [
    "dataset2 = pd.get_dummies(dataset, columns =['workclass', 'education', 'marital-status', 'occupation', 'relationship', \n",
    "                                             'race', 'sec','native-country'])"
   ]
  },
  {
   "cell_type": "code",
   "execution_count": 8,
   "metadata": {},
   "outputs": [
    {
     "data": {
      "text/plain": [
       "Index(['age', 'hours-per-week', 'y', 'workclass_Government',\n",
       "       'workclass_Private', 'workclass_Self-employed', 'workclass_Without-pay',\n",
       "       'education_Grade-school', 'education_Graduate', 'education_High-school',\n",
       "       'education_Higher-education', 'education_Undergraduate',\n",
       "       'marital-status_Married', 'marital-status_Never-married',\n",
       "       'marital-status_Previously-married', 'occupation_Adm-clerical',\n",
       "       'occupation_Armed-Forces', 'occupation_Craft-repair',\n",
       "       'occupation_Exec-managerial', 'occupation_Farming-fishing',\n",
       "       'occupation_Handlers-cleaners', 'occupation_Machine-op-inspct',\n",
       "       'occupation_Other-service', 'occupation_Priv-house-serv',\n",
       "       'occupation_Prof-specialty', 'occupation_Protective-serv',\n",
       "       'occupation_Sales', 'occupation_Tech-support',\n",
       "       'occupation_Transport-moving', 'relationship_Husband',\n",
       "       'relationship_Not-in-family', 'relationship_Other-relative',\n",
       "       'relationship_Own-child', 'relationship_Unmarried', 'relationship_Wife',\n",
       "       'race_Amer-Indian-Eskimo', 'race_Asian-Pac-Islander', 'race_Black',\n",
       "       'race_Other', 'race_White', 'sec_Female', 'sec_Male',\n",
       "       'native-country_Other', 'native-country_United-States'],\n",
       "      dtype='object')"
      ]
     },
     "execution_count": 8,
     "metadata": {},
     "output_type": "execute_result"
    }
   ],
   "source": [
    "dataset2.columns"
   ]
  },
  {
   "cell_type": "code",
   "execution_count": 9,
   "metadata": {
    "collapsed": true
   },
   "outputs": [],
   "source": [
    "X = dataset2.loc[:, dataset2.columns != \"y\"]\n",
    "y = dataset2.loc[:, \"y\"]\n",
    "X_train, X_test, y_train, y_test = train_test_split(X, y, test_size = .25, random_state=0)"
   ]
  },
  {
   "cell_type": "code",
   "execution_count": 10,
   "metadata": {},
   "outputs": [
    {
     "data": {
      "text/plain": [
       "(22620, 43)"
      ]
     },
     "execution_count": 10,
     "metadata": {},
     "output_type": "execute_result"
    }
   ],
   "source": [
    "X_train.shape"
   ]
  },
  {
   "cell_type": "code",
   "execution_count": 11,
   "metadata": {},
   "outputs": [
    {
     "data": {
      "text/plain": [
       "(22620, 1)"
      ]
     },
     "execution_count": 11,
     "metadata": {},
     "output_type": "execute_result"
    }
   ],
   "source": [
    "y_train.shape"
   ]
  },
  {
   "cell_type": "code",
   "execution_count": null,
   "metadata": {},
   "outputs": [],
   "source": [
    "# SVM Model\n",
    "svc_linear = svm.SVC(kernel='linear', C=10)\n",
    "svc_linear.fit(X_train, y_train)"
   ]
  },
  {
   "cell_type": "code",
   "execution_count": null,
   "metadata": {
    "collapsed": true
   },
   "outputs": [],
   "source": [
    "predicted= svc_linear.predict(X_test)\n",
    "cnf_matrix = confusion_matrix(y_test, predicted)\n",
    "print(cnf_matrix)\n",
    "svc_linear.score(X_test,y_test"
   ]
  },
  {
   "cell_type": "code",
   "execution_count": null,
   "metadata": {
    "collapsed": true
   },
   "outputs": [],
   "source": [
    "# NN \n",
    "mlp = MLPClassifier(hidden_layer_sizes=(23,23,23))"
   ]
  },
  {
   "cell_type": "code",
   "execution_count": null,
   "metadata": {
    "collapsed": true
   },
   "outputs": [],
   "source": [
    "mlp.fit(X_train,y_train)"
   ]
  },
  {
   "cell_type": "code",
   "execution_count": null,
   "metadata": {
    "collapsed": true
   },
   "outputs": [],
   "source": [
    "predictions = mlp.predict(X_test)"
   ]
  },
  {
   "cell_type": "code",
   "execution_count": null,
   "metadata": {
    "collapsed": true
   },
   "outputs": [],
   "source": [
    "print(confusion_matrix(y_test,predictions))\n",
    "mlp.score(X_test,y_test)"
   ]
  },
  {
   "cell_type": "code",
   "execution_count": null,
   "metadata": {
    "collapsed": true
   },
   "outputs": [],
   "source": [
    "#Using KNN"
   ]
  },
  {
   "cell_type": "code",
   "execution_count": null,
   "metadata": {
    "collapsed": true
   },
   "outputs": [],
   "source": [
    "from sklearn.neighbors import KNeighborsClassifier\n",
    "KNN = KNeighborsClassifier(n_neighbors=5)"
   ]
  },
  {
   "cell_type": "code",
   "execution_count": null,
   "metadata": {
    "collapsed": true
   },
   "outputs": [],
   "source": [
    "KNN.fit(X_train,y_train)"
   ]
  },
  {
   "cell_type": "code",
   "execution_count": null,
   "metadata": {
    "collapsed": true
   },
   "outputs": [],
   "source": [
    "predictions = KNN.predict(X_test)"
   ]
  },
  {
   "cell_type": "code",
   "execution_count": null,
   "metadata": {
    "collapsed": true
   },
   "outputs": [],
   "source": [
    "from sklearn.metrics import classification_report,confusion_matrix\n",
    "print(confusion_matrix(y_test,predictions))\n",
    "KNN.score(X_test,y_test)"
   ]
  },
  {
   "cell_type": "code",
   "execution_count": null,
   "metadata": {
    "collapsed": true
   },
   "outputs": [],
   "source": [
    "# Using SVM"
   ]
  },
  {
   "cell_type": "code",
   "execution_count": null,
   "metadata": {
    "collapsed": true
   },
   "outputs": [],
   "source": [
    "from sklearn import svm\n",
    "\n",
    "svc_linear = svm.SVC(kernel='linear', C=10)\n",
    "svc_linear.fit(X_train, y_train)"
   ]
  },
  {
   "cell_type": "code",
   "execution_count": null,
   "metadata": {
    "collapsed": true
   },
   "outputs": [],
   "source": [
    "predicted= svc_linear.predict(X_test)\n",
    "cnf_matrix = confusion_matrix(y_test, predicted)\n",
    "print(cnf_matrix)\n",
    "svc_linear.score(X_test,y_test)"
   ]
  }
 ],
 "metadata": {
  "kernelspec": {
   "display_name": "Python 3",
   "language": "python",
   "name": "python3"
  },
  "language_info": {
   "codemirror_mode": {
    "name": "ipython",
    "version": 3
   },
   "file_extension": ".py",
   "mimetype": "text/x-python",
   "name": "python",
   "nbconvert_exporter": "python",
   "pygments_lexer": "ipython3",
   "version": "3.6.3"
  }
 },
 "nbformat": 4,
 "nbformat_minor": 2
}
