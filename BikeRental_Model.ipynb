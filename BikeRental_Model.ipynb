{
 "cells": [
  {
   "cell_type": "code",
   "execution_count": null,
   "metadata": {
    "collapsed": true
   },
   "outputs": [],
   "source": [
    "import pandas as pd\n",
    "import numpy as np\n",
    "import textwrap\n",
    "from sklearn.model_selection import KFold, train_test_split\n",
    "from sklearn.linear_model import Ridge, LinearRegression, Lasso\n",
    "from sklearn.metrics import mean_squared_error, r2_score, accuracy_score\n",
    "from sklearn.neural_network import MLPRegressor\n",
    "from sklearn.neighbors import KNeighborsRegressor\n",
    "from sklearn.base import clone"
   ]
  },
  {
   "cell_type": "code",
   "execution_count": null,
   "metadata": {
    "collapsed": true
   },
   "outputs": [],
   "source": [
    "# This is where we'll put constants\n",
    "FOLD_COUNT          = 5\n",
    "TRAIN_DATA_PATH     = \"./data/bikeRentalHourlyTrain.csv\""
   ]
  },
  {
   "cell_type": "code",
   "execution_count": null,
   "metadata": {
    "collapsed": true
   },
   "outputs": [],
   "source": [
    "def get_data_xy(data):\n",
    "    X = data.loc[:, data.columns != \"cnt\"]\n",
    "    y = data.loc[:, \"cnt\"]\n",
    "    return X, y\n",
    "\n",
    "def clean_data(data):\n",
    "    data = data.apply(lambda x: x.str.strip() if x.dtype == \"object\" else x) \\\n",
    "           .replace([\"?\"], [None]) \\\n",
    "           .dropna()\n",
    "    # Dropping columns...\n",
    "    # - 0 - the first column contains some sort of identifier\n",
    "    # - instant - this seems like an identifier too\n",
    "    # - dteday - for this info, the fields mnth, weekday, holiday, are good enough\n",
    "    # - season - this can be computed from mnth / weekday\n",
    "    # - yr - we're not concerned about year over year performance\n",
    "    # - casual - this is part of \"cnt\"\n",
    "    # - registered - this is part of \"cnt\"\n",
    "    data.drop(data.columns[0], axis=1, inplace=True)\n",
    "    data.drop(['instant', 'dteday', 'season', 'yr', 'casual', 'registered'], axis=1, inplace=True)\n",
    "    return data\n",
    "\n",
    "def read_data(path):\n",
    "    dataset = pd.read_csv(path, header = 0)\n",
    "    return clean_data(dataset)"
   ]
  },
  {
   "cell_type": "code",
   "execution_count": null,
   "metadata": {},
   "outputs": [],
   "source": [
    "def test_model_kfold(model, X, y, fold_count = FOLD_COUNT):\n",
    "    \"\"\"Run a kfold test on the given model. It works off of a clone of the given model.\"\"\"\n",
    "    kf = KFold(n_splits=fold_count, random_state=None, shuffle=True)\n",
    "    avg_metrics = None\n",
    "    \n",
    "    # For each fold...\n",
    "    # 1) clone the model to get a fresh copy\n",
    "    # 2) train and test the model on the split\n",
    "    # 3) aggregate the test results\n",
    "    for train_index, test_index in kf.split(X):       \n",
    "        train_X, test_X = X.iloc[train_index], X.iloc[test_index]\n",
    "        train_y, test_y = y.iloc[train_index], y.iloc[test_index]\n",
    "        \n",
    "        model = clone(model)\n",
    "        model.fit(train_X, train_y)\n",
    "        metrics = test_model(model, test_X, test_y)\n",
    "        \n",
    "        if avg_metrics is None:\n",
    "            avg_metrics = metrics\n",
    "        else:\n",
    "            avg_metrics = tuple(map(lambda x, y: x + y, avg_metrics, metrics))\n",
    "        \n",
    "    avg_metrics = tuple(map(lambda x: x / fold_count, avg_metrics))\n",
    "    \n",
    "    return avg_metrics\n",
    "\n",
    "def test_model_split(model, train_split_xy):\n",
    "    \"\"\"Run a test on the given split. It works off of a clone of the given model.\"\"\"\n",
    "    train_X, test_X, train_y, test_y = train_split_xy\n",
    "    model = clone(model)\n",
    "    model.fit(train_X, train_y)\n",
    "    return test_model(model, test_X, test_y)\n",
    "    \n",
    "def test_model (model, test_X, test_y):\n",
    "    \"\"\"Get performance metrics based on the model's prediction results.\"\"\"\n",
    "    prediction = model.predict(test_X)\n",
    "    \n",
    "    mse = mean_squared_error(test_y, prediction)\n",
    "    var_score = r2_score(test_y, prediction)\n",
    "    y_bar_squared = (sum(test_y)/float(len(test_y)))**2\n",
    "    mse_per = mse / y_bar_squared\n",
    "    \n",
    "    return (mse, mse_per, var_score)\n",
    "\n",
    "def print_test_results (results):\n",
    "    mse, mse_per, var_score = results\n",
    "    print(\"MSE:\")\n",
    "    print(textwrap.indent(str(mse), \" \" * 4))\n",
    "    \n",
    "    print(\"\")\n",
    "    print(\"MSE%:\")\n",
    "    print(textwrap.indent(str(mse_per), \" \" * 4))\n",
    "    \n",
    "    print(\"\")\n",
    "    print(\"Variance Score:\")\n",
    "    print(textwrap.indent(str(var_score), \" \" * 4))\n",
    "\n",
    "def prepare_models(models, X, y):\n",
    "    \"\"\"Prepare the given models and print training results\"\"\"\n",
    "    for model_name, model in models:\n",
    "        print(\"'{0}' classifier\".format(model_name))\n",
    "        print(\"--------------------------------------\")\n",
    "\n",
    "        print(\"Testing against training data with {0} folds...\".format(FOLD_COUNT))\n",
    "        print(\"\")\n",
    "\n",
    "        test_results = test_model_kfold(model, X, y, fold_count=FOLD_COUNT)\n",
    "        print_test_results(test_results)\n",
    "        print(\"\")\n",
    "\n",
    "        print(\"Training against training data...\")\n",
    "        model.fit(X, y)\n",
    "\n",
    "        print(\"--------------------------------------\")\n",
    "        print(\"\")\n",
    "    return models\n",
    "\n",
    "def test_models(models, test_X, test_y):\n",
    "    \"\"\"Test the given models against the testing data\"\"\"\n",
    "    for model_name, model in models:\n",
    "        print(\"Testing '{0}' classifier against testing data\".format(model_name))\n",
    "        print(\"--------------------------------------\")\n",
    "        test_results = test_model(model, test_X, test_y)\n",
    "        print_test_results(test_results)\n",
    "        print(\"--------------------------------------\")\n",
    "        print(\"\")"
   ]
  },
  {
   "cell_type": "code",
   "execution_count": null,
   "metadata": {},
   "outputs": [],
   "source": [
    "dataset = read_data(TRAIN_DATA_PATH)\n",
    "dataset.head()"
   ]
  },
  {
   "cell_type": "code",
   "execution_count": null,
   "metadata": {},
   "outputs": [],
   "source": [
    "X, y = get_data_xy(dataset)"
   ]
  },
  {
   "cell_type": "code",
   "execution_count": null,
   "metadata": {
    "scrolled": true
   },
   "outputs": [],
   "source": [
    "# Create linear regression object\n",
    "models = prepare_models(\n",
    "    [\n",
    "        (\"Linear Regression\", LinearRegression()),\n",
    "        (\"Neural Network\", MLPRegressor(hidden_layer_sizes=(20,100,20), activation='relu', learning_rate='adaptive', max_iter=300)),\n",
    "        (\"KNN\", KNeighborsRegressor(n_neighbors=10, p=1))\n",
    "    ],\n",
    "    X,\n",
    "    y\n",
    ")"
   ]
  },
  {
   "cell_type": "code",
   "execution_count": null,
   "metadata": {
    "collapsed": true
   },
   "outputs": [],
   "source": []
  }
 ],
 "metadata": {
  "kernelspec": {
   "display_name": "Python 3",
   "language": "python",
   "name": "python3"
  },
  "language_info": {
   "codemirror_mode": {
    "name": "ipython",
    "version": 3
   },
   "file_extension": ".py",
   "mimetype": "text/x-python",
   "name": "python",
   "nbconvert_exporter": "python",
   "pygments_lexer": "ipython3",
   "version": "3.6.3"
  }
 },
 "nbformat": 4,
 "nbformat_minor": 2
}
